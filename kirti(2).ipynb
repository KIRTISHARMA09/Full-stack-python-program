{
 "cells": [
  {
   "cell_type": "code",
   "execution_count": 1,
   "id": "97025bc3-3202-4fb4-b38f-215de611b5b3",
   "metadata": {},
   "outputs": [
    {
     "name": "stdout",
     "output_type": "stream",
     "text": [
      "HELLO,Python Full Stack Student!\n"
     ]
    }
   ],
   "source": [
    "print(\"HELLO,Python Full Stack Student!\")"
   ]
  },
  {
   "cell_type": "code",
   "execution_count": 2,
   "id": "85a40d81-e9c5-4b87-9518-a74d1bbbbcc5",
   "metadata": {},
   "outputs": [
    {
     "name": "stdout",
     "output_type": "stream",
     "text": [
      "Hello,I am Kirti sharma.\n"
     ]
    }
   ],
   "source": [
    "print(\"Hello,I am Kirti sharma.\")"
   ]
  },
  {
   "cell_type": "code",
   "execution_count": 3,
   "id": "5c3bd0c1-3d30-4c8f-8510-7519820cb7e9",
   "metadata": {},
   "outputs": [
    {
     "name": "stdout",
     "output_type": "stream",
     "text": [
      "Introduction To python.\n"
     ]
    }
   ],
   "source": [
    "print(\"Introduction To python.\")"
   ]
  },
  {
   "cell_type": "code",
   "execution_count": 4,
   "id": "3cb144cd-4105-49e4-a935-68bcf9e8965b",
   "metadata": {},
   "outputs": [
    {
     "name": "stdout",
     "output_type": "stream",
     "text": [
      "I am commerce student,Excited to learn python.\n"
     ]
    }
   ],
   "source": [
    "print(\"I am commerce student,Excited to learn python.\")"
   ]
  },
  {
   "cell_type": "code",
   "execution_count": 9,
   "id": "be9b569e-13ab-44ac-b00f-38fe32c49f01",
   "metadata": {},
   "outputs": [
    {
     "name": "stdout",
     "output_type": "stream",
     "text": [
      "name : kirti\n",
      "age : 18\n",
      "gpa : 8.6\n",
      "is student : true\n"
     ]
    }
   ],
   "source": [
    "print(\"name : kirti\")\n",
    "print(\"age : 18\")\n",
    "print(\"gpa : 8.6\")\n",
    "print(\"is student : true\")"
   ]
  },
  {
   "cell_type": "code",
   "execution_count": 10,
   "id": "28f26f00-1887-4a6f-97b1-5b05ad89c578",
   "metadata": {},
   "outputs": [
    {
     "name": "stdout",
     "output_type": "stream",
     "text": [
      "name : sumit\n",
      "age : 22\n",
      "gpa : 9.5\n",
      "is student : true\n"
     ]
    }
   ],
   "source": [
    "print(\"name : sumit\")\n",
    "print(\"age : 22\")\n",
    "print(\"gpa : 9.5\")\n",
    "print(\"is student : true\")"
   ]
  },
  {
   "cell_type": "code",
   "execution_count": 20,
   "id": "d05f10a4-86da-446b-b94e-e82500d9281f",
   "metadata": {},
   "outputs": [
    {
     "name": "stdout",
     "output_type": "stream",
     "text": [
      "<class 'int'> <class 'float'> <class 'str'> <class 'bool'>\n"
     ]
    }
   ],
   "source": [
    "x = 10\n",
    "y = 7.14\n",
    "z = \"Python\"\n",
    "flag = False\n",
    "print(type(x),type(y),type(z),type(flag))"
   ]
  },
  {
   "cell_type": "code",
   "execution_count": 21,
   "id": "c776f0e1-23f4-4cba-84e7-11baad81f458",
   "metadata": {},
   "outputs": [
    {
     "name": "stdout",
     "output_type": "stream",
     "text": [
      " Kirti , avinash college, accounting\n"
     ]
    }
   ],
   "source": [
    "print(\" Kirti , avinash college, accounting\")\n"
   ]
  },
  {
   "cell_type": "code",
   "execution_count": 24,
   "id": "5c2f34b5-c06e-4b26-9246-2bdeed4c9671",
   "metadata": {},
   "outputs": [
    {
     "name": "stdout",
     "output_type": "stream",
     "text": [
      "19\n"
     ]
    }
   ],
   "source": [
    "birth_year=2006\n",
    "current_year=2025\n",
    "print(current_year-birth_year)"
   ]
  },
  {
   "cell_type": "code",
   "execution_count": 26,
   "id": "8ae66ed5-0717-4795-96be-cf459700dbcd",
   "metadata": {},
   "outputs": [
    {
     "name": "stdout",
     "output_type": "stream",
     "text": [
      "puspa 2024 9\n"
     ]
    }
   ],
   "source": [
    "movie_name=\"puspa\"\n",
    "realse_year=2024\n",
    "rating=9\n",
    "print(movie_name,realse_year,rating)"
   ]
  },
  {
   "cell_type": "code",
   "execution_count": 27,
   "id": "443e1ebf-57ef-42de-a71b-f61c87f786ac",
   "metadata": {},
   "outputs": [
    {
     "name": "stdout",
     "output_type": "stream",
     "text": [
      "Addition: 19\n",
      "Division: 3.75\n",
      "Floor Division: 3\n",
      "Power: 50625\n"
     ]
    }
   ],
   "source": [
    "print(\"Addition:\",15 + 4)\n",
    "print(\"Division:\",15/4)\n",
    "print(\"Floor Division:\",15//4)\n",
    "print(\"Power:\",15**4)"
   ]
  },
  {
   "cell_type": "code",
   "execution_count": 30,
   "id": "dd9bf41b-4cd9-48da-aff4-ca209811d3ab",
   "metadata": {},
   "outputs": [
    {
     "name": "stdout",
     "output_type": "stream",
     "text": [
      "False\n",
      "True\n",
      "True\n"
     ]
    }
   ],
   "source": [
    "a=10\n",
    "b=20\n",
    "print(10 > 20) # False\n",
    "print(a == 10) # True\n",
    "print((10 < 20) and (b == 20)) # True"
   ]
  },
  {
   "cell_type": "code",
   "execution_count": 9,
   "id": "3dcd797a-7771-409d-834a-bbeeefd41d66",
   "metadata": {},
   "outputs": [
    {
     "name": "stdout",
     "output_type": "stream",
     "text": [
      "['banana', 'mango', 'orange']\n",
      "mango\n"
     ]
    }
   ],
   "source": [
    "fruits=[\"apple\",\"banana\",\"mango\"]\n",
    "fruits.append(\"orange\")\n",
    "fruits.remove(\"apple\")\n",
    "fruits.sort() #sort list\n",
    "print(fruits) \n",
    "print(fruits[1]) "
   ]
  },
  {
   "cell_type": "code",
   "execution_count": 10,
   "id": "a8b1b4d6-22e1-4335-a0ec-9d7cea5e3817",
   "metadata": {},
   "outputs": [
    {
     "name": "stdout",
     "output_type": "stream",
     "text": [
      "['est', 'priya', 'vanshika', 'varshit']\n",
      "vanshika\n"
     ]
    }
   ],
   "source": [
    "name=[\"varshita\",\"vanshika\",\"priya\",\"est\"]\n",
    "name.append(\"varshit\")\n",
    "name.remove(\"varshita\")\n",
    "name.sort() #sort list\n",
    "print(name) \n",
    "print(name[2]) "
   ]
  },
  {
   "cell_type": "code",
   "execution_count": 8,
   "id": "f69a5148-bb3c-46d3-90ec-f4faca1db9f3",
   "metadata": {},
   "outputs": [
    {
     "name": "stdout",
     "output_type": "stream",
     "text": [
      "['sharma', 'rajesh', 'sky', 'william']\n",
      "william\n"
     ]
    }
   ],
   "source": [
    "name=[\"sharma\",\"rajesh\",\"sky\"]\n",
    "name.append(\"william\")\n",
    "print(name) \n",
    "print(name[3]) "
   ]
  },
  {
   "cell_type": "code",
   "execution_count": 21,
   "id": "c4502bf7-7caf-4718-9f85-fbe4b14b3730",
   "metadata": {},
   "outputs": [
    {
     "name": "stdout",
     "output_type": "stream",
     "text": [
      "red\n"
     ]
    },
    {
     "data": {
      "text/plain": [
       "False"
      ]
     },
     "execution_count": 21,
     "metadata": {},
     "output_type": "execute_result"
    }
   ],
   "source": [
    "colors=(\"red\",\"blue\",\"black\")\n",
    "print(colors[0])\n",
    "colors[1]==\"yellow\""
   ]
  },
  {
   "cell_type": "code",
   "execution_count": 23,
   "id": "6e889bf1-eaef-41de-81a1-fcaacc9f3e29",
   "metadata": {},
   "outputs": [
    {
     "name": "stdout",
     "output_type": "stream",
     "text": [
      "{1, 2, 3, 4, 5, 6}\n"
     ]
    }
   ],
   "source": [
    "number={1,2,3,4,5}\n",
    "number.add(6)\n",
    "print(number)"
   ]
  },
  {
   "cell_type": "code",
   "execution_count": 42,
   "id": "e779ddbc-4aff-48a4-b8da-73c24c89a546",
   "metadata": {},
   "outputs": [
    {
     "name": "stdout",
     "output_type": "stream",
     "text": [
      "dict_keys(['name', 'age', 'course', 'college'])\n",
      "dict_values(['kirti', 18, 'BBA', 'ABC UNIVERSITY'])\n",
      "kirti\n",
      "{'name': 'kirti', 'age': 18, 'course': 'BBA', 'college': 'ABC UNIVERSITY'}\n"
     ]
    }
   ],
   "source": [
    "student={\n",
    "    \"name\":\"kirti\",\n",
    "    \"age\":18,\n",
    "    \"course\":\"BBA\"\n",
    "}\n",
    "student[\"college\"] = \"ABC UNIVERSITY\"\n",
    "print(student.keys())\n",
    "print(student.values())\n",
    "print(student[\"name\"])\n",
    "(student[\"age\"]) =18\n",
    "print(student)"
   ]
  },
  {
   "cell_type": "code",
   "execution_count": 48,
   "id": "6c1ea68f-3d43-42f7-903e-131718fa6520",
   "metadata": {},
   "outputs": [
    {
     "name": "stdout",
     "output_type": "stream",
     "text": [
      "Grade:B\n"
     ]
    }
   ],
   "source": [
    "marks=75\n",
    "if marks >=90:\n",
    "   print(\"Grade:A\")\n",
    "elif marks >=75:\n",
    "   print(\"Grade:B\")\n",
    "elif marks >=50:\n",
    "    print(\"Grade:C\")\n",
    "else:\n",
    "    print(\"Grade:Fail\")"
   ]
  },
  {
   "cell_type": "code",
   "execution_count": 53,
   "id": "58f98a5c-86c8-472a-bc2a-30bebe7a25ee",
   "metadata": {},
   "outputs": [
    {
     "name": "stdout",
     "output_type": "stream",
     "text": [
      "number: 1\n",
      "number: 2\n",
      "number: 3\n",
      "number: 4\n",
      "number: 5\n",
      "number: 6\n",
      "number: 7\n",
      "number: 8\n",
      "number: 9\n",
      "number: 10\n"
     ]
    }
   ],
   "source": [
    "for i in range(1,11):\n",
    "    print(\"number:\", i)"
   ]
  },
  {
   "cell_type": "code",
   "execution_count": 60,
   "id": "2b0ce6dc-7222-4ef6-b951-5f1b8e4192dd",
   "metadata": {},
   "outputs": [
    {
     "name": "stdout",
     "output_type": "stream",
     "text": [
      "count: 1\n",
      "count: 2\n",
      "count: 3\n",
      "count: 4\n",
      "count: 5\n"
     ]
    }
   ],
   "source": [
    "count=1\n",
    "while count<=5:\n",
    "    print(\"count:\",count)\n",
    "    count +=1\n",
    "    "
   ]
  },
  {
   "cell_type": "code",
   "execution_count": 72,
   "id": "e316dd78-6455-400b-b3bb-d9cb7f1d432f",
   "metadata": {},
   "outputs": [
    {
     "name": "stdout",
     "output_type": "stream",
     "text": [
      "1\n",
      "2\n",
      "3\n",
      "4\n",
      "5\n",
      "6\n",
      "7\n",
      "8\n",
      "9\n",
      "10\n"
     ]
    }
   ],
   "source": [
    "for i in range(1,15):\n",
    "    if i == 11:\n",
    "       break \n",
    "    print (i)"
   ]
  },
  {
   "cell_type": "code",
   "execution_count": null,
   "id": "c1041804-8102-49c4-9e94-498796b00908",
   "metadata": {},
   "outputs": [],
   "source": []
  }
 ],
 "metadata": {
  "kernelspec": {
   "display_name": "Python [conda env:base] *",
   "language": "python",
   "name": "conda-base-py"
  },
  "language_info": {
   "codemirror_mode": {
    "name": "ipython",
    "version": 3
   },
   "file_extension": ".py",
   "mimetype": "text/x-python",
   "name": "python",
   "nbconvert_exporter": "python",
   "pygments_lexer": "ipython3",
   "version": "3.13.5"
  }
 },
 "nbformat": 4,
 "nbformat_minor": 5
}

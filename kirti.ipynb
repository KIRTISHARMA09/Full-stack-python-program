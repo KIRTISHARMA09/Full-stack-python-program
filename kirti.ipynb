{
 "cells": [
  {
   "cell_type": "code",
   "execution_count": 1,
   "id": "97025bc3-3202-4fb4-b38f-215de611b5b3",
   "metadata": {},
   "outputs": [
    {
     "name": "stdout",
     "output_type": "stream",
     "text": [
      "HELLO,Python Full Stack Student!\n"
     ]
    }
   ],
   "source": [
    "print(\"HELLO,Python Full Stack Student!\")"
   ]
  },
  {
   "cell_type": "code",
   "execution_count": 2,
   "id": "85a40d81-e9c5-4b87-9518-a74d1bbbbcc5",
   "metadata": {},
   "outputs": [
    {
     "name": "stdout",
     "output_type": "stream",
     "text": [
      "Hello,I am Kirti sharma.\n"
     ]
    }
   ],
   "source": [
    "print(\"Hello,I am Kirti sharma.\")"
   ]
  },
  {
   "cell_type": "code",
   "execution_count": 3,
   "id": "5c3bd0c1-3d30-4c8f-8510-7519820cb7e9",
   "metadata": {},
   "outputs": [
    {
     "name": "stdout",
     "output_type": "stream",
     "text": [
      "Introduction To python.\n"
     ]
    }
   ],
   "source": [
    "print(\"Introduction To python.\")"
   ]
  },
  {
   "cell_type": "code",
   "execution_count": 4,
   "id": "3cb144cd-4105-49e4-a935-68bcf9e8965b",
   "metadata": {},
   "outputs": [
    {
     "name": "stdout",
     "output_type": "stream",
     "text": [
      "I am commerce student,Excited to learn python.\n"
     ]
    }
   ],
   "source": [
    "print(\"I am commerce student,Excited to learn python.\")"
   ]
  },
  {
   "cell_type": "code",
   "execution_count": 9,
   "id": "be9b569e-13ab-44ac-b00f-38fe32c49f01",
   "metadata": {},
   "outputs": [
    {
     "name": "stdout",
     "output_type": "stream",
     "text": [
      "name : kirti\n",
      "age : 18\n",
      "gpa : 8.6\n",
      "is student : true\n"
     ]
    }
   ],
   "source": [
    "print(\"name : kirti\")\n",
    "print(\"age : 18\")\n",
    "print(\"gpa : 8.6\")\n",
    "print(\"is student : true\")"
   ]
  },
  {
   "cell_type": "code",
   "execution_count": 10,
   "id": "28f26f00-1887-4a6f-97b1-5b05ad89c578",
   "metadata": {},
   "outputs": [
    {
     "name": "stdout",
     "output_type": "stream",
     "text": [
      "name : sumit\n",
      "age : 22\n",
      "gpa : 9.5\n",
      "is student : true\n"
     ]
    }
   ],
   "source": [
    "print(\"name : sumit\")\n",
    "print(\"age : 22\")\n",
    "print(\"gpa : 9.5\")\n",
    "print(\"is student : true\")"
   ]
  },
  {
   "cell_type": "code",
   "execution_count": 20,
   "id": "d05f10a4-86da-446b-b94e-e82500d9281f",
   "metadata": {},
   "outputs": [
    {
     "name": "stdout",
     "output_type": "stream",
     "text": [
      "<class 'int'> <class 'float'> <class 'str'> <class 'bool'>\n"
     ]
    }
   ],
   "source": [
    "x = 10\n",
    "y = 7.14\n",
    "z = \"Python\"\n",
    "flag = False\n",
    "print(type(x),type(y),type(z),type(flag))"
   ]
  },
  {
   "cell_type": "code",
   "execution_count": 21,
   "id": "c776f0e1-23f4-4cba-84e7-11baad81f458",
   "metadata": {},
   "outputs": [
    {
     "name": "stdout",
     "output_type": "stream",
     "text": [
      " Kirti , avinash college, accounting\n"
     ]
    }
   ],
   "source": [
    "print(\" Kirti , avinash college, accounting\")\n"
   ]
  },
  {
   "cell_type": "code",
   "execution_count": 24,
   "id": "5c2f34b5-c06e-4b26-9246-2bdeed4c9671",
   "metadata": {},
   "outputs": [
    {
     "name": "stdout",
     "output_type": "stream",
     "text": [
      "19\n"
     ]
    }
   ],
   "source": [
    "birth_year=2006\n",
    "current_year=2025\n",
    "print(current_year-birth_year)"
   ]
  },
  {
   "cell_type": "code",
   "execution_count": 26,
   "id": "8ae66ed5-0717-4795-96be-cf459700dbcd",
   "metadata": {},
   "outputs": [
    {
     "name": "stdout",
     "output_type": "stream",
     "text": [
      "puspa 2024 9\n"
     ]
    }
   ],
   "source": [
    "movie_name=\"puspa\"\n",
    "realse_year=2024\n",
    "rating=9\n",
    "print(movie_name,realse_year,rating)"
   ]
  },
  {
   "cell_type": "code",
   "execution_count": 27,
   "id": "443e1ebf-57ef-42de-a71b-f61c87f786ac",
   "metadata": {},
   "outputs": [
    {
     "name": "stdout",
     "output_type": "stream",
     "text": [
      "Addition: 19\n",
      "Division: 3.75\n",
      "Floor Division: 3\n",
      "Power: 50625\n"
     ]
    }
   ],
   "source": [
    "print(\"Addition:\",15 + 4)\n",
    "print(\"Division:\",15/4)\n",
    "print(\"Floor Division:\",15//4)\n",
    "print(\"Power:\",15**4)"
   ]
  },
  {
   "cell_type": "code",
   "execution_count": 30,
   "id": "dd9bf41b-4cd9-48da-aff4-ca209811d3ab",
   "metadata": {},
   "outputs": [
    {
     "name": "stdout",
     "output_type": "stream",
     "text": [
      "False\n",
      "True\n",
      "True\n"
     ]
    }
   ],
   "source": [
    "a=10\n",
    "b=20\n",
    "print(10 > 20) # False\n",
    "print(a == 10) # True\n",
    "print((10 < 20) and (b == 20)) # True"
   ]
  },
  {
   "cell_type": "code",
   "execution_count": null,
   "id": "3dcd797a-7771-409d-834a-bbeeefd41d66",
   "metadata": {},
   "outputs": [],
   "source": []
  }
 ],
 "metadata": {
  "kernelspec": {
   "display_name": "Python [conda env:base] *",
   "language": "python",
   "name": "conda-base-py"
  },
  "language_info": {
   "codemirror_mode": {
    "name": "ipython",
    "version": 3
   },
   "file_extension": ".py",
   "mimetype": "text/x-python",
   "name": "python",
   "nbconvert_exporter": "python",
   "pygments_lexer": "ipython3",
   "version": "3.13.5"
  }
 },
 "nbformat": 4,
 "nbformat_minor": 5
}
